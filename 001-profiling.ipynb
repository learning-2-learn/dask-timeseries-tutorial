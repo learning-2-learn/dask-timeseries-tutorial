{
 "cells": [
  {
   "cell_type": "markdown",
   "metadata": {},
   "source": [
    "# Profiling \n",
    "\n",
    "When you are optimizing code, you need to know how well your code is performing and whether the changes you are making are improving the situation.\n",
    "\n",
    "To know whether what you are doing is helping, it is crucial to measure how well you are doing before and after some change. Profiling is a way to know how well a particular piece of code works.\n"
   ]
  },
  {
   "cell_type": "markdown",
   "metadata": {},
   "source": [
    "## The IPython timeit magic\n",
    "\n",
    "In the Jupyter Python notebook, you can use a ‘magic’ function to time either a single statement, or multiple statements.\n",
    "\n",
    "For example:"
   ]
  },
  {
   "cell_type": "code",
   "execution_count": null,
   "metadata": {},
   "outputs": [],
   "source": [
    "import numpy as np\n",
    "\n",
    "for shape in [10e3, 10e4, 10e5]:\n",
    "    X = np.random.rand(int(shape))\n",
    "    %timeit np.dot(X, X.T)"
   ]
  },
  {
   "cell_type": "markdown",
   "metadata": {},
   "source": [
    "A slightly more elaborate example: "
   ]
  },
  {
   "cell_type": "code",
   "execution_count": null,
   "metadata": {},
   "outputs": [],
   "source": [
    "%%timeit\n",
    "X = np.random.rand(100, 100)\n",
    "D = np.empty((100, 100))\n",
    "\n",
    "M = X.shape[0]\n",
    "N = X.shape[1]\n",
    "for i in range(M):\n",
    "    for j in range(M):\n",
    "        d = 0.0\n",
    "        for k in range(N):\n",
    "            tmp = X[i, k] - X[j, k]\n",
    "            d += tmp * tmp\n",
    "        D[i, j] = np.sqrt(d)"
   ]
  },
  {
   "cell_type": "markdown",
   "metadata": {},
   "source": [
    "But if you want to know how each line affect performance, you'll need to use a line-by-line profiler. "
   ]
  },
  {
   "cell_type": "code",
   "execution_count": null,
   "metadata": {},
   "outputs": [],
   "source": [
    "%load_ext line_profiler"
   ]
  },
  {
   "cell_type": "markdown",
   "metadata": {},
   "source": [
    "These operate on functions, so let's put the code into a function:"
   ]
  },
  {
   "cell_type": "code",
   "execution_count": null,
   "metadata": {},
   "outputs": [],
   "source": [
    "def distance():\n",
    "    X = np.random.rand(100, 100)\n",
    "    D = np.empty((100, 100))\n",
    "\n",
    "    M = X.shape[0]\n",
    "    N = X.shape[1]\n",
    "    for i in range(M):\n",
    "        for j in range(M):\n",
    "            d = 0.0\n",
    "            for k in range(N):\n",
    "                tmp = X[i, k] - X[j, k]\n",
    "                d += tmp * tmp\n",
    "            D[i, j] = np.sqrt(d)"
   ]
  },
  {
   "cell_type": "markdown",
   "metadata": {},
   "source": [
    "The way the line-profiler works is that it needs to know about the function that you are profiing and that code has to be called (possibly indirectly):\n",
    "\n",
    "    %lprun -f function_to_be_profiled function_to_be_called()\n",
    "    \n",
    "In this particular case, the function to be profiled and the function to be called are one and the same:"
   ]
  },
  {
   "cell_type": "code",
   "execution_count": null,
   "metadata": {},
   "outputs": [],
   "source": [
    "%lprun -f distance distance()"
   ]
  },
  {
   "cell_type": "markdown",
   "metadata": {},
   "source": [
    "The ‘Hits’ column is important, because it tells us that some lines of code are heavily used. And the ‘% Time’ column is also very important, because it tells us where we should focus our attention first, in making this go faster."
   ]
  },
  {
   "cell_type": "code",
   "execution_count": null,
   "metadata": {},
   "outputs": [],
   "source": []
  }
 ],
 "metadata": {
  "kernelspec": {
   "display_name": "Python 3",
   "language": "python",
   "name": "python3"
  },
  "language_info": {
   "codemirror_mode": {
    "name": "ipython",
    "version": 3
   },
   "file_extension": ".py",
   "mimetype": "text/x-python",
   "name": "python",
   "nbconvert_exporter": "python",
   "pygments_lexer": "ipython3",
   "version": "3.6.7"
  }
 },
 "nbformat": 4,
 "nbformat_minor": 2
}
