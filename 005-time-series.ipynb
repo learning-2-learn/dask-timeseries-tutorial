{
 "cells": [
  {
   "cell_type": "markdown",
   "metadata": {},
   "source": [
    "# Time-series analysis with XArray and Zarr\n",
    "\n",
    "Here, we'll introduce a couple more tools that add to our arsenal and perform a more realistic analysis of neuroscience data. \n",
    "\n",
    "We'll use two tools that integrate with the other things we've seen so far. \n",
    "\n",
    "The first is Zarr. This is primarily a file format that allows us to save data (e.g., time-series) in a way that supports optimal ingesting into a distributed cluster. \n",
    "\n",
    "The second is XArray. This is a Python library that supports the management of complex datasets, such as multi-channel time-series data from neuroscience experiments.\n",
    "\n",
    "Let's start by importing XArray and using it to read some data from a GCS bucket"
   ]
  },
  {
   "cell_type": "code",
   "execution_count": 1,
   "metadata": {},
   "outputs": [],
   "source": [
    "import gcsfs\n",
    "import xarray as xr"
   ]
  },
  {
   "cell_type": "markdown",
   "metadata": {},
   "source": [
    "This time we're pointing to another bucket that is publicly available and contains some data that Chris Holdgraf collected (as described [here](https://www.nature.com/articles/ncomms13654))."
   ]
  },
  {
   "cell_type": "code",
   "execution_count": 2,
   "metadata": {},
   "outputs": [],
   "source": [
    "fs = gcsfs.GCSFileSystem('holdgraf-ecog')"
   ]
  },
  {
   "cell_type": "markdown",
   "metadata": {},
   "source": [
    "XArray knows how to read data stored as a zarr into an `XArray` `DataSet` object. To identify the GCS location, it is given a `GCSMap` object with the file-system as a pointer and with `check` and `create` both set to `False` (this is the read only mode)."
   ]
  },
  {
   "cell_type": "code",
   "execution_count": 3,
   "metadata": {},
   "outputs": [],
   "source": [
    "gcsmap = gcsfs.mapping.GCSMap('holdgraf-ecog/sub-01-zarr', \n",
    "                              gcs=fs, \n",
    "                              check=False, \n",
    "                              create=False)"
   ]
  },
  {
   "cell_type": "markdown",
   "metadata": {},
   "source": [
    "Once this map is provided to XArray it creates the Dataset"
   ]
  },
  {
   "cell_type": "code",
   "execution_count": 4,
   "metadata": {},
   "outputs": [],
   "source": [
    "data = xr.open_zarr(gcsmap)"
   ]
  },
  {
   "cell_type": "code",
   "execution_count": 5,
   "metadata": {},
   "outputs": [],
   "source": [
    "channels = list(data.keys())"
   ]
  },
  {
   "cell_type": "markdown",
   "metadata": {},
   "source": [
    "Let's start a dask kubernetes cluster. I've packaged all that code into a module that we can call:"
   ]
  },
  {
   "cell_type": "code",
   "execution_count": 6,
   "metadata": {},
   "outputs": [],
   "source": [
    "import tools"
   ]
  },
  {
   "cell_type": "code",
   "execution_count": 7,
   "metadata": {},
   "outputs": [],
   "source": [
    "cluster, client = tools.init_cluster(n_workers=10)"
   ]
  },
  {
   "cell_type": "code",
   "execution_count": 8,
   "metadata": {},
   "outputs": [],
   "source": [
    "from nitime import algorithms as tsa\n",
    "from nitime import utils as tsu"
   ]
  },
  {
   "cell_type": "markdown",
   "metadata": {},
   "source": [
    "Coherence for real-valued data is symmetric, so we calculate this for only half the spectrum (the other half is identical):"
   ]
  },
  {
   "cell_type": "markdown",
   "metadata": {},
   "source": [
    "The data was filtered between 0.1 and 1,000 Hz, so that's the sampling frequency:"
   ]
  },
  {
   "cell_type": "code",
   "execution_count": 10,
   "metadata": {},
   "outputs": [],
   "source": [
    "Fs = 1000"
   ]
  },
  {
   "cell_type": "code",
   "execution_count": 11,
   "metadata": {},
   "outputs": [],
   "source": [
    "N = data[channels[0]].shape[0]"
   ]
  },
  {
   "cell_type": "code",
   "execution_count": 14,
   "metadata": {},
   "outputs": [
    {
     "name": "stderr",
     "output_type": "stream",
     "text": [
      "/srv/conda/envs/notebook/lib/python3.6/site-packages/nitime/utils.py:980: FutureWarning: Conversion of the second argument of issubdtype from `complex` to `np.complexfloating` is deprecated. In future, it will be treated as `np.complex128 == np.dtype(complex).type`.\n",
      "  complex_result = (np.issubdtype(in1.dtype, np.complex) or\n",
      "/srv/conda/envs/notebook/lib/python3.6/site-packages/nitime/utils.py:981: FutureWarning: Conversion of the second argument of issubdtype from `complex` to `np.complexfloating` is deprecated. In future, it will be treated as `np.complex128 == np.dtype(complex).type`.\n",
      "  np.issubdtype(in2.dtype, np.complex))\n",
      "/srv/conda/envs/notebook/lib/python3.6/site-packages/nitime/utils.py:980: FutureWarning: Conversion of the second argument of issubdtype from `complex` to `np.complexfloating` is deprecated. In future, it will be treated as `np.complex128 == np.dtype(complex).type`.\n",
      "  complex_result = (np.issubdtype(in1.dtype, np.complex) or\n",
      "/srv/conda/envs/notebook/lib/python3.6/site-packages/nitime/utils.py:981: FutureWarning: Conversion of the second argument of issubdtype from `complex` to `np.complexfloating` is deprecated. In future, it will be treated as `np.complex128 == np.dtype(complex).type`.\n",
      "  np.issubdtype(in2.dtype, np.complex))\n"
     ]
    }
   ],
   "source": [
    "NW = 4\n",
    "bandwidth = NW * (2 * Fs) / N\n",
    "tapers, eigs = tsa.dpss_windows(N, NW, 2 * NW - 1, interp_from=N//10)"
   ]
  },
  {
   "cell_type": "code",
   "execution_count": 24,
   "metadata": {},
   "outputs": [],
   "source": [
    "import numpy as np\n",
    "import dask.array as da"
   ]
  },
  {
   "cell_type": "code",
   "execution_count": 16,
   "metadata": {},
   "outputs": [],
   "source": [
    "ch1 = channels[0]\n",
    "ch2 = channels[1]"
   ]
  },
  {
   "cell_type": "code",
   "execution_count": null,
   "metadata": {},
   "outputs": [],
   "source": [
    "def mt_coherence(data, ch1, ch2, tapers, eigs):\n",
    "    d1 = data[ch1].chunk(data[ch1].shape[-1]) \n",
    "    d2 = data[ch2].chunk(data[ch2].shape[-1])\n",
    "    sx = tsa.tapered_spectra(d1.values, tapers)\n",
    "    sy = "
   ]
  },
  {
   "cell_type": "code",
   "execution_count": 58,
   "metadata": {},
   "outputs": [],
   "source": [
    "def get_spectra(data, ch, tapers, eigs):\n",
    "    dd = data[ch].chunk(data[ch].shape[0])\n",
    "    ss = tsa.tapered_spectra(dd.values, tapers)\n",
    "    ww, df = tsu.adaptive_weights(sx, eigs)\n",
    "    return ss, ww, df"
   ]
  },
  {
   "cell_type": "code",
   "execution_count": 60,
   "metadata": {},
   "outputs": [],
   "source": [
    "def mt_coherence(data, ch1, ch2, tapers, eigs):\n",
    "    sx, wx, dfx = get_spectra(data, ch1, tapers, eigs)\n",
    "    sy, wy, dfy = get_spectra(data, ch2, tapers, eigs)\n",
    "    sxy = tsa.mtm_cross_spectrum(sx, sy, (wx, wy),\n",
    "                                 sides='onesided')\n",
    "    sxx = tsa.mtm_cross_spectrum(sx, sx, (wx, wx),\n",
    "                                 sides='onesided')\n",
    "    syy = tsa.mtm_cross_spectrum(sy, sy, (wy, wy),\n",
    "                                 sides='onesided')\n",
    "    coh = np.abs(sxy) ** 2 / (sxx *  syy)\n",
    "    \n",
    "    # XXX Calculate jack-knife estimates of 95% confidence intervals\n",
    "    \n",
    "    return coh"
   ]
  },
  {
   "cell_type": "code",
   "execution_count": null,
   "metadata": {},
   "outputs": [],
   "source": [
    "coh_test = mt_coherence(data, channels[0], channels[1], tapers, eigs)"
   ]
  },
  {
   "cell_type": "code",
   "execution_count": null,
   "metadata": {},
   "outputs": [],
   "source": []
  }
 ],
 "metadata": {
  "kernelspec": {
   "display_name": "Python 3",
   "language": "python",
   "name": "python3"
  },
  "language_info": {
   "codemirror_mode": {
    "name": "ipython",
    "version": 3
   },
   "file_extension": ".py",
   "mimetype": "text/x-python",
   "name": "python",
   "nbconvert_exporter": "python",
   "pygments_lexer": "ipython3",
   "version": "3.6.7"
  }
 },
 "nbformat": 4,
 "nbformat_minor": 2
}
