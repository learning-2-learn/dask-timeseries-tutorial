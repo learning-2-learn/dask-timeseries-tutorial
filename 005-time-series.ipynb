{
 "cells": [
  {
   "cell_type": "code",
   "execution_count": 1,
   "metadata": {},
   "outputs": [],
   "source": [
    "import numpy as np\n",
    "import xarray as xr\n",
    "import matplotlib.pyplot as plt"
   ]
  },
  {
   "cell_type": "code",
   "execution_count": 2,
   "metadata": {},
   "outputs": [
    {
     "data": {
      "application/vnd.jupyter.widget-view+json": {
       "model_id": "4233199569ed4d97929b97370b82d6e7",
       "version_major": 2,
       "version_minor": 0
      },
      "text/plain": [
       "VBox(children=(HTML(value='<h2>KubeCluster</h2>'), HBox(children=(HTML(value='\\n<div>\\n  <style scoped>\\n    .…"
      ]
     },
     "metadata": {},
     "output_type": "display_data"
    }
   ],
   "source": [
    "# Setup a dask cluster\n",
    "from dask.distributed import Client\n",
    "from dask_kubernetes import KubeCluster\n",
    "\n",
    "cluster = KubeCluster(n_workers=10)\n",
    "cluster"
   ]
  },
  {
   "cell_type": "code",
   "execution_count": 3,
   "metadata": {},
   "outputs": [
    {
     "data": {
      "text/html": [
       "<table style=\"border: 2px solid white;\">\n",
       "<tr>\n",
       "<td style=\"vertical-align: top; border: 0px solid white\">\n",
       "<h3>Client</h3>\n",
       "<ul>\n",
       "  <li><b>Scheduler: </b>tcp://10.36.24.5:42391\n",
       "  <li><b>Dashboard: </b><a href='/user/arokem/proxy/8787/status' target='_blank'>/user/arokem/proxy/8787/status</a>\n",
       "</ul>\n",
       "</td>\n",
       "<td style=\"vertical-align: top; border: 0px solid white\">\n",
       "<h3>Cluster</h3>\n",
       "<ul>\n",
       "  <li><b>Workers: </b>0</li>\n",
       "  <li><b>Cores: </b>0</li>\n",
       "  <li><b>Memory: </b>0 B</li>\n",
       "</ul>\n",
       "</td>\n",
       "</tr>\n",
       "</table>"
      ],
      "text/plain": [
       "<Client: scheduler='tcp://10.36.24.5:42391' processes=0 cores=0>"
      ]
     },
     "execution_count": 3,
     "metadata": {},
     "output_type": "execute_result"
    }
   ],
   "source": [
    "client = Client(cluster)\n",
    "client"
   ]
  },
  {
   "cell_type": "code",
   "execution_count": 4,
   "metadata": {},
   "outputs": [],
   "source": [
    "import gcsfs"
   ]
  },
  {
   "cell_type": "code",
   "execution_count": 5,
   "metadata": {},
   "outputs": [],
   "source": [
    "fs = gcsfs.GCSFileSystem('holdgraf-ecog')"
   ]
  },
  {
   "cell_type": "code",
   "execution_count": 14,
   "metadata": {},
   "outputs": [],
   "source": [
    "gcsmap = gcsfs.mapping.GCSMap('holdgraf-ecog/sub-01-zarr', \n",
    "                              gcs=fs, \n",
    "                              check=False, \n",
    "                              create=False)"
   ]
  },
  {
   "cell_type": "code",
   "execution_count": 15,
   "metadata": {},
   "outputs": [],
   "source": [
    "data = xr.open_zarr(gcsmap)"
   ]
  },
  {
   "cell_type": "code",
   "execution_count": 19,
   "metadata": {},
   "outputs": [],
   "source": [
    "from nitime import algorithms as tsa"
   ]
  },
  {
   "cell_type": "code",
   "execution_count": null,
   "metadata": {},
   "outputs": [],
   "source": [
    "NW = 4\n",
    "bandwidth = NW * (2 * Fs) / N\n",
    "tapers = tsa.dpss_windows(self.input.shape[-1], \n",
    "                          self.NW,\n",
    "                          2 * self.NW - 1)[0]"
   ]
  },
  {
   "cell_type": "code",
   "execution_count": null,
   "metadata": {},
   "outputs": [],
   "source": [
    "def mt_coherence(data, ch1, ch2, tapers):\n",
    "    \n",
    "    d1 = data[ch1]\n",
    "    d1 = d1.chunk(d1.shape[0])\n",
    "    d2 = data[ch2]\n",
    "    d2 = d2.chunk(d2.shape[0])\n",
    "\n",
    "    tdata = tapers[None, :, :] * data1[:, None, :]\n",
    "    spectra1 = fftpack.fft(tdata1)\n",
    "    \n",
    "    sxy = tsa.mtm_cross_spectrum(self.spectra[i], self.spectra[j],\n",
    "                               (self.weights[i], self.weights[j]),\n",
    "                               sides='onesided')\n",
    "    sxx = tsa.mtm_cross_spectrum(self.spectra[i], self.spectra[i],\n",
    "                                 self.weights[i],\n",
    "                                 sides='onesided')\n",
    "    syy = tsa.mtm_cross_spectrum(self.spectra[j], self.spectra[j],\n",
    "                                 self.weights[i],\n",
    "                                 sides='onesided')\n",
    "    coh = np.abs(sxy) ** 2 / (sxx *  syy)"
   ]
  },
  {
   "cell_type": "code",
   "execution_count": 20,
   "metadata": {},
   "outputs": [
    {
     "data": {
      "text/plain": [
       "<xarray.DataArray 'G10' (time: 1204042)>\n",
       "dask.array<shape=(1204042,), dtype=float64, chunksize=(75253,)>\n",
       "Dimensions without coordinates: time"
      ]
     },
     "execution_count": 20,
     "metadata": {},
     "output_type": "execute_result"
    }
   ],
   "source": [
    "data[\"G10\"]"
   ]
  },
  {
   "cell_type": "code",
   "execution_count": 21,
   "metadata": {},
   "outputs": [],
   "source": [
    "dd = data[\"G10\"]"
   ]
  },
  {
   "cell_type": "code",
   "execution_count": 23,
   "metadata": {},
   "outputs": [
    {
     "data": {
      "text/plain": [
       "<xarray.DataArray 'G10' (time: 1204042)>\n",
       "dask.array<shape=(1204042,), dtype=float64, chunksize=(1204042,)>\n",
       "Dimensions without coordinates: time"
      ]
     },
     "execution_count": 23,
     "metadata": {},
     "output_type": "execute_result"
    }
   ],
   "source": [
    "dd.chunk(dd.shape[0])"
   ]
  },
  {
   "cell_type": "code",
   "execution_count": null,
   "metadata": {},
   "outputs": [],
   "source": []
  },
  {
   "cell_type": "code",
   "execution_count": 8,
   "metadata": {},
   "outputs": [
    {
     "data": {
      "text/plain": [
       "<xarray.Dataset>\n",
       "Dimensions:  (time: 1204042)\n",
       "Dimensions without coordinates: time\n",
       "Data variables:\n",
       "    G10      (time) float64 dask.array<shape=(1204042,), chunksize=(75253,)>\n",
       "    G11      (time) float64 dask.array<shape=(1204042,), chunksize=(75253,)>\n",
       "    G17      (time) float64 dask.array<shape=(1204042,), chunksize=(75253,)>\n",
       "    G18      (time) float64 dask.array<shape=(1204042,), chunksize=(75253,)>\n",
       "    G19      (time) float64 dask.array<shape=(1204042,), chunksize=(75253,)>\n",
       "    G20      (time) float64 dask.array<shape=(1204042,), chunksize=(75253,)>\n",
       "    G21      (time) float64 dask.array<shape=(1204042,), chunksize=(75253,)>\n",
       "    G26      (time) float64 dask.array<shape=(1204042,), chunksize=(75253,)>\n",
       "    G27      (time) float64 dask.array<shape=(1204042,), chunksize=(75253,)>\n",
       "    G28      (time) float64 dask.array<shape=(1204042,), chunksize=(75253,)>\n",
       "    G42      (time) float64 dask.array<shape=(1204042,), chunksize=(75253,)>\n",
       "    G43      (time) float64 dask.array<shape=(1204042,), chunksize=(75253,)>\n",
       "    G44      (time) float64 dask.array<shape=(1204042,), chunksize=(75253,)>\n",
       "    G45      (time) float64 dask.array<shape=(1204042,), chunksize=(75253,)>\n",
       "    TG49     (time) float64 dask.array<shape=(1204042,), chunksize=(75253,)>"
      ]
     },
     "execution_count": 8,
     "metadata": {},
     "output_type": "execute_result"
    }
   ],
   "source": [
    "data.persist()"
   ]
  },
  {
   "cell_type": "code",
   "execution_count": 9,
   "metadata": {},
   "outputs": [],
   "source": [
    "arr = data.to_array()"
   ]
  },
  {
   "cell_type": "code",
   "execution_count": 10,
   "metadata": {},
   "outputs": [],
   "source": [
    "arr = arr.chunk((arr.shape[0]//4, arr.shape[-1]))"
   ]
  },
  {
   "cell_type": "code",
   "execution_count": 11,
   "metadata": {},
   "outputs": [],
   "source": [
    "from dask.array.fft import fft"
   ]
  },
  {
   "cell_type": "code",
   "execution_count": 12,
   "metadata": {},
   "outputs": [],
   "source": [
    "ft = fft(arr.data).compute()"
   ]
  },
  {
   "cell_type": "code",
   "execution_count": 13,
   "metadata": {},
   "outputs": [],
   "source": [
    "from nitime.analysis import CoherenceAnalyzer, MTCoherenceAnalyzer"
   ]
  },
  {
   "cell_type": "code",
   "execution_count": null,
   "metadata": {},
   "outputs": [],
   "source": []
  }
 ],
 "metadata": {
  "kernelspec": {
   "display_name": "Python 3",
   "language": "python",
   "name": "python3"
  },
  "language_info": {
   "codemirror_mode": {
    "name": "ipython",
    "version": 3
   },
   "file_extension": ".py",
   "mimetype": "text/x-python",
   "name": "python",
   "nbconvert_exporter": "python",
   "pygments_lexer": "ipython3",
   "version": "3.6.7"
  }
 },
 "nbformat": 4,
 "nbformat_minor": 2
}
