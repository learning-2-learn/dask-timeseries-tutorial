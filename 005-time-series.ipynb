{
 "cells": [
  {
   "cell_type": "markdown",
   "metadata": {},
   "source": [
    "# Time-series analysis with XArray and Zarr\n",
    "\n",
    "Here, we'll introduce a couple more tools that add to our arsenal and perform a more realistic analysis of neuroscience data. \n",
    "\n",
    "We'll use two tools that integrate with the other things we've seen so far. \n",
    "\n",
    "The first is Zarr. This is primarily a file format that allows us to save data (e.g., time-series) in a way that supports optimal ingesting into a distributed cluster. \n",
    "\n",
    "The second is XArray. This is a Python library that supports the management of complex datasets, such as multi-channel time-series data from neuroscience experiments.\n",
    "\n",
    "Let's start by importing XArray and using it to read some data from a GCS bucket"
   ]
  },
  {
   "cell_type": "code",
   "execution_count": 1,
   "metadata": {},
   "outputs": [],
   "source": [
    "import gcsfs\n",
    "import xarray as xr"
   ]
  },
  {
   "cell_type": "markdown",
   "metadata": {},
   "source": [
    "This time we're pointing to another bucket that is publicly available and contains some data that Chris Holdgraf collected (as described [here](https://www.nature.com/articles/ncomms13654))."
   ]
  },
  {
   "cell_type": "code",
   "execution_count": 2,
   "metadata": {},
   "outputs": [],
   "source": [
    "fs = gcsfs.GCSFileSystem('holdgraf-ecog')"
   ]
  },
  {
   "cell_type": "markdown",
   "metadata": {},
   "source": [
    "XArray knows how to read data stored as a zarr into an `XArray` `DataSet` object. To identify the GCS location, it is given a `GCSMap` object with the file-system as a pointer and with `check` and `create` both set to `False` (this is the read only mode)."
   ]
  },
  {
   "cell_type": "code",
   "execution_count": 3,
   "metadata": {},
   "outputs": [],
   "source": [
    "gcsmap = gcsfs.mapping.GCSMap('holdgraf-ecog/sub-01-zarr', \n",
    "                              gcs=fs, \n",
    "                              check=False, \n",
    "                              create=False)"
   ]
  },
  {
   "cell_type": "markdown",
   "metadata": {},
   "source": [
    "Once this map is provided to XArray it creates the Dataset"
   ]
  },
  {
   "cell_type": "code",
   "execution_count": 4,
   "metadata": {},
   "outputs": [],
   "source": [
    "data = xr.open_zarr(gcsmap)"
   ]
  },
  {
   "cell_type": "code",
   "execution_count": 5,
   "metadata": {},
   "outputs": [],
   "source": [
    "channels = list(data.keys())"
   ]
  },
  {
   "cell_type": "code",
   "execution_count": 6,
   "metadata": {},
   "outputs": [
    {
     "data": {
      "application/vnd.jupyter.widget-view+json": {
       "model_id": "dd79f3c7ab3f467d9e9798218239acf0",
       "version_major": 2,
       "version_minor": 0
      },
      "text/plain": [
       "VBox(children=(HTML(value='<h2>KubeCluster</h2>'), HBox(children=(HTML(value='\\n<div>\\n  <style scoped>\\n    .…"
      ]
     },
     "metadata": {},
     "output_type": "display_data"
    }
   ],
   "source": [
    "# Setup a dask cluster\n",
    "from dask.distributed import Client\n",
    "from dask_kubernetes import KubeCluster\n",
    "\n",
    "cluster = KubeCluster(n_workers=10)\n",
    "cluster"
   ]
  },
  {
   "cell_type": "code",
   "execution_count": 7,
   "metadata": {},
   "outputs": [
    {
     "data": {
      "text/html": [
       "<table style=\"border: 2px solid white;\">\n",
       "<tr>\n",
       "<td style=\"vertical-align: top; border: 0px solid white\">\n",
       "<h3>Client</h3>\n",
       "<ul>\n",
       "  <li><b>Scheduler: </b>tcp://10.36.13.22:35651\n",
       "  <li><b>Dashboard: </b><a href='/user/arokem/proxy/8787/status' target='_blank'>/user/arokem/proxy/8787/status</a>\n",
       "</ul>\n",
       "</td>\n",
       "<td style=\"vertical-align: top; border: 0px solid white\">\n",
       "<h3>Cluster</h3>\n",
       "<ul>\n",
       "  <li><b>Workers: </b>0</li>\n",
       "  <li><b>Cores: </b>0</li>\n",
       "  <li><b>Memory: </b>0 B</li>\n",
       "</ul>\n",
       "</td>\n",
       "</tr>\n",
       "</table>"
      ],
      "text/plain": [
       "<Client: scheduler='tcp://10.36.13.22:35651' processes=0 cores=0>"
      ]
     },
     "execution_count": 7,
     "metadata": {},
     "output_type": "execute_result"
    }
   ],
   "source": [
    "client = Client(cluster)\n",
    "client"
   ]
  },
  {
   "cell_type": "code",
   "execution_count": 8,
   "metadata": {},
   "outputs": [],
   "source": [
    "from nitime import algorithms as tsa\n",
    "from nitime import utils as tsu"
   ]
  },
  {
   "cell_type": "markdown",
   "metadata": {},
   "source": [
    "The data was filtered between 0.1 and 1,000 Hz, so that's the sampling frequency:"
   ]
  },
  {
   "cell_type": "code",
   "execution_count": 9,
   "metadata": {},
   "outputs": [],
   "source": [
    "Fs = 1000"
   ]
  },
  {
   "cell_type": "code",
   "execution_count": 10,
   "metadata": {},
   "outputs": [],
   "source": [
    "N = data[channels[0]].shape[0]"
   ]
  },
  {
   "cell_type": "code",
   "execution_count": 12,
   "metadata": {},
   "outputs": [
    {
     "name": "stderr",
     "output_type": "stream",
     "text": [
      "/srv/conda/envs/notebook/lib/python3.6/site-packages/nitime/utils.py:980: FutureWarning: Conversion of the second argument of issubdtype from `complex` to `np.complexfloating` is deprecated. In future, it will be treated as `np.complex128 == np.dtype(complex).type`.\n",
      "  complex_result = (np.issubdtype(in1.dtype, np.complex) or\n",
      "/srv/conda/envs/notebook/lib/python3.6/site-packages/nitime/utils.py:981: FutureWarning: Conversion of the second argument of issubdtype from `complex` to `np.complexfloating` is deprecated. In future, it will be treated as `np.complex128 == np.dtype(complex).type`.\n",
      "  np.issubdtype(in2.dtype, np.complex))\n"
     ]
    }
   ],
   "source": [
    "NW = 4\n",
    "bandwidth = NW * (2 * Fs) / N\n",
    "tapers, eigs = tsa.dpss_windows(N, NW, 2 * NW - 1)"
   ]
  },
  {
   "cell_type": "code",
   "execution_count": 13,
   "metadata": {},
   "outputs": [
    {
     "data": {
      "text/plain": [
       "((7, 1204042), (7,))"
      ]
     },
     "execution_count": 13,
     "metadata": {},
     "output_type": "execute_result"
    }
   ],
   "source": [
    "tapers.shape, eigs.shape"
   ]
  },
  {
   "cell_type": "code",
   "execution_count": 14,
   "metadata": {},
   "outputs": [],
   "source": [
    "import numpy as np"
   ]
  },
  {
   "cell_type": "code",
   "execution_count": 18,
   "metadata": {},
   "outputs": [],
   "source": [
    "def get_spectra(data, ch, tapers, eigs):\n",
    "    dd = data[ch].chunk(data[ch].shape[0])\n",
    "    tdata = tapers[None, :] * dd.values\n",
    "    ss = tsa.fftpack.fft(tdata.squeeze())\n",
    "    # We can set these to be adaptive:\n",
    "    # weights, df = tsu.adaptive_weights(ss, eigs, sides='onesided')\n",
    "    # Or take the square root of the eigenvalues\n",
    "    weights = np.sqrt(eigs)\n",
    "    df = None\n",
    "    return ss, weights, df"
   ]
  },
  {
   "cell_type": "code",
   "execution_count": 19,
   "metadata": {},
   "outputs": [],
   "source": [
    "def mt_coherence(data, ch1, ch2, tapers, eigs):\n",
    "    sx, wx, dfx = get_spectra(data, ch1, tapers, eigs)\n",
    "    sy, wy, dfy = get_spectra(data, ch2, tapers, eigs)\n",
    "    sxy = tsa.mtm_cross_spectrum(sx, sy, (wx, wy),\n",
    "                                 sides='onesided')\n",
    "    sxx = tsa.mtm_cross_spectrum(sx, sx, (wx, wx),\n",
    "                                 sides='onesided')\n",
    "    syy = tsa.mtm_cross_spectrum(sy, sy, (wy, wy),\n",
    "                                 sides='onesided')\n",
    "    coh = np.abs(sxy) ** 2 / (sxx *  syy)\n",
    "    \n",
    "    # XXX Calculate jack-knife estimates of 95% confidence intervals\n",
    "    \n",
    "    return coh"
   ]
  },
  {
   "cell_type": "code",
   "execution_count": 20,
   "metadata": {},
   "outputs": [
    {
     "ename": "IndexError",
     "evalue": "too many indices for array",
     "output_type": "error",
     "traceback": [
      "\u001b[0;31m---------------------------------------------------------------------------\u001b[0m",
      "\u001b[0;31mIndexError\u001b[0m                                Traceback (most recent call last)",
      "\u001b[0;32m<ipython-input-20-c07ca2afc83d>\u001b[0m in \u001b[0;36m<module>\u001b[0;34m\u001b[0m\n\u001b[0;32m----> 1\u001b[0;31m \u001b[0mcoh_test\u001b[0m \u001b[0;34m=\u001b[0m \u001b[0mmt_coherence\u001b[0m\u001b[0;34m(\u001b[0m\u001b[0mdata\u001b[0m\u001b[0;34m,\u001b[0m \u001b[0mchannels\u001b[0m\u001b[0;34m[\u001b[0m\u001b[0;36m0\u001b[0m\u001b[0;34m]\u001b[0m\u001b[0;34m,\u001b[0m \u001b[0mchannels\u001b[0m\u001b[0;34m[\u001b[0m\u001b[0;36m1\u001b[0m\u001b[0;34m]\u001b[0m\u001b[0;34m,\u001b[0m \u001b[0mtapers\u001b[0m\u001b[0;34m,\u001b[0m \u001b[0meigs\u001b[0m\u001b[0;34m)\u001b[0m\u001b[0;34m\u001b[0m\u001b[0;34m\u001b[0m\u001b[0m\n\u001b[0m",
      "\u001b[0;32m<ipython-input-19-b45ee9309f8a>\u001b[0m in \u001b[0;36mmt_coherence\u001b[0;34m(data, ch1, ch2, tapers, eigs)\u001b[0m\n\u001b[1;32m      3\u001b[0m     \u001b[0msy\u001b[0m\u001b[0;34m,\u001b[0m \u001b[0mwy\u001b[0m\u001b[0;34m,\u001b[0m \u001b[0mdfy\u001b[0m \u001b[0;34m=\u001b[0m \u001b[0mget_spectra\u001b[0m\u001b[0;34m(\u001b[0m\u001b[0mdata\u001b[0m\u001b[0;34m,\u001b[0m \u001b[0mch2\u001b[0m\u001b[0;34m,\u001b[0m \u001b[0mtapers\u001b[0m\u001b[0;34m,\u001b[0m \u001b[0meigs\u001b[0m\u001b[0;34m)\u001b[0m\u001b[0;34m\u001b[0m\u001b[0;34m\u001b[0m\u001b[0m\n\u001b[1;32m      4\u001b[0m     sxy = tsa.mtm_cross_spectrum(sx, sy, (wx, wy),\n\u001b[0;32m----> 5\u001b[0;31m                                  sides='onesided')\n\u001b[0m\u001b[1;32m      6\u001b[0m     sxx = tsa.mtm_cross_spectrum(sx, sx, (wx, wx),\n\u001b[1;32m      7\u001b[0m                                  sides='onesided')\n",
      "\u001b[0;32m/srv/conda/envs/notebook/lib/python3.6/site-packages/nitime/algorithms/spectral.py\u001b[0m in \u001b[0;36mmtm_cross_spectrum\u001b[0;34m(tx, ty, weights, sides)\u001b[0m\n\u001b[1;32m    624\u001b[0m         \u001b[0;31m# if weights.shape[-1] > 1 then make sure weights are truncated too\u001b[0m\u001b[0;34m\u001b[0m\u001b[0;34m\u001b[0m\u001b[0;34m\u001b[0m\u001b[0m\n\u001b[1;32m    625\u001b[0m         \u001b[0;32mif\u001b[0m \u001b[0mweights_x\u001b[0m\u001b[0;34m.\u001b[0m\u001b[0mshape\u001b[0m\u001b[0;34m[\u001b[0m\u001b[0;34m-\u001b[0m\u001b[0;36m1\u001b[0m\u001b[0;34m]\u001b[0m \u001b[0;34m>\u001b[0m \u001b[0;36m1\u001b[0m\u001b[0;34m:\u001b[0m\u001b[0;34m\u001b[0m\u001b[0;34m\u001b[0m\u001b[0m\n\u001b[0;32m--> 626\u001b[0;31m             \u001b[0mweights_x\u001b[0m \u001b[0;34m=\u001b[0m \u001b[0mweights_x\u001b[0m\u001b[0;34m[\u001b[0m\u001b[0mtsl\u001b[0m\u001b[0;34m]\u001b[0m\u001b[0;34m\u001b[0m\u001b[0;34m\u001b[0m\u001b[0m\n\u001b[0m\u001b[1;32m    627\u001b[0m             \u001b[0mweights_y\u001b[0m \u001b[0;34m=\u001b[0m \u001b[0mweights_y\u001b[0m\u001b[0;34m[\u001b[0m\u001b[0mtsl\u001b[0m\u001b[0;34m]\u001b[0m\u001b[0;34m\u001b[0m\u001b[0;34m\u001b[0m\u001b[0m\n\u001b[1;32m    628\u001b[0m             \u001b[0mdenom\u001b[0m \u001b[0;34m=\u001b[0m \u001b[0mdenom\u001b[0m\u001b[0;34m[\u001b[0m\u001b[0mtsl\u001b[0m\u001b[0;34m[\u001b[0m\u001b[0;36m1\u001b[0m\u001b[0;34m:\u001b[0m\u001b[0;34m]\u001b[0m\u001b[0;34m]\u001b[0m\u001b[0;34m\u001b[0m\u001b[0;34m\u001b[0m\u001b[0m\n",
      "\u001b[0;31mIndexError\u001b[0m: too many indices for array"
     ]
    }
   ],
   "source": [
    "coh_test = mt_coherence(data, channels[0], channels[1], tapers, eigs)"
   ]
  },
  {
   "cell_type": "code",
   "execution_count": null,
   "metadata": {},
   "outputs": [
    {
     "name": "stdout",
     "output_type": "stream",
     "text": [
      "> \u001b[0;32m/srv/conda/envs/notebook/lib/python3.6/site-packages/nitime/algorithms/spectral.py\u001b[0m(626)\u001b[0;36mmtm_cross_spectrum\u001b[0;34m()\u001b[0m\n",
      "\u001b[0;32m    624 \u001b[0;31m        \u001b[0;31m# if weights.shape[-1] > 1 then make sure weights are truncated too\u001b[0m\u001b[0;34m\u001b[0m\u001b[0;34m\u001b[0m\u001b[0;34m\u001b[0m\u001b[0m\n",
      "\u001b[0m\u001b[0;32m    625 \u001b[0;31m        \u001b[0;32mif\u001b[0m \u001b[0mweights_x\u001b[0m\u001b[0;34m.\u001b[0m\u001b[0mshape\u001b[0m\u001b[0;34m[\u001b[0m\u001b[0;34m-\u001b[0m\u001b[0;36m1\u001b[0m\u001b[0;34m]\u001b[0m \u001b[0;34m>\u001b[0m \u001b[0;36m1\u001b[0m\u001b[0;34m:\u001b[0m\u001b[0;34m\u001b[0m\u001b[0;34m\u001b[0m\u001b[0m\n",
      "\u001b[0m\u001b[0;32m--> 626 \u001b[0;31m            \u001b[0mweights_x\u001b[0m \u001b[0;34m=\u001b[0m \u001b[0mweights_x\u001b[0m\u001b[0;34m[\u001b[0m\u001b[0mtsl\u001b[0m\u001b[0;34m]\u001b[0m\u001b[0;34m\u001b[0m\u001b[0;34m\u001b[0m\u001b[0m\n",
      "\u001b[0m\u001b[0;32m    627 \u001b[0;31m            \u001b[0mweights_y\u001b[0m \u001b[0;34m=\u001b[0m \u001b[0mweights_y\u001b[0m\u001b[0;34m[\u001b[0m\u001b[0mtsl\u001b[0m\u001b[0;34m]\u001b[0m\u001b[0;34m\u001b[0m\u001b[0;34m\u001b[0m\u001b[0m\n",
      "\u001b[0m\u001b[0;32m    628 \u001b[0;31m            \u001b[0mdenom\u001b[0m \u001b[0;34m=\u001b[0m \u001b[0mdenom\u001b[0m\u001b[0;34m[\u001b[0m\u001b[0mtsl\u001b[0m\u001b[0;34m[\u001b[0m\u001b[0;36m1\u001b[0m\u001b[0;34m:\u001b[0m\u001b[0;34m]\u001b[0m\u001b[0;34m]\u001b[0m\u001b[0;34m\u001b[0m\u001b[0;34m\u001b[0m\u001b[0m\n",
      "\u001b[0m\n"
     ]
    },
    {
     "name": "stdin",
     "output_type": "stream",
     "text": [
      "ipdb>  p tsl\n"
     ]
    },
    {
     "name": "stdout",
     "output_type": "stream",
     "text": [
      "(slice(None, None, None), slice(0, 602022, None))\n"
     ]
    },
    {
     "name": "stdin",
     "output_type": "stream",
     "text": [
      "ipdb>  weights_x.shape\n"
     ]
    },
    {
     "name": "stdout",
     "output_type": "stream",
     "text": [
      "(7,)\n"
     ]
    }
   ],
   "source": [
    "debug"
   ]
  },
  {
   "cell_type": "code",
   "execution_count": null,
   "metadata": {},
   "outputs": [],
   "source": []
  }
 ],
 "metadata": {
  "kernelspec": {
   "display_name": "Python 3",
   "language": "python",
   "name": "python3"
  },
  "language_info": {
   "codemirror_mode": {
    "name": "ipython",
    "version": 3
   },
   "file_extension": ".py",
   "mimetype": "text/x-python",
   "name": "python",
   "nbconvert_exporter": "python",
   "pygments_lexer": "ipython3",
   "version": "3.6.7"
  }
 },
 "nbformat": 4,
 "nbformat_minor": 2
}
